{
 "cells": [
  {
   "cell_type": "code",
   "execution_count": 1,
   "id": "27c8a4c3",
   "metadata": {
    "ExecuteTime": {
     "end_time": "2024-01-20T01:12:47.898300Z",
     "start_time": "2024-01-20T01:12:47.882053Z"
    }
   },
   "outputs": [],
   "source": [
    "def credit_checker(num):\n",
    "    by2 = []\n",
    "    sums = 0\n",
    "    valid = True \n",
    "    for i in range(0,len(num),2):\n",
    "        by2.append(str(int(num[i])*2))\n",
    "        \n",
    "    for element in by2:\n",
    "        for i in element:\n",
    "            sums = sums + int(i)    \n",
    "    \n",
    "    for i in range(1,len(num),2):\n",
    "        sums = sums + int(num[i])\n",
    "        \n",
    "    if sums%10 == 0:\n",
    "        valid = True\n",
    "    else:\n",
    "        valid = False\n",
    "        \n",
    "    return valid"
   ]
  },
  {
   "cell_type": "code",
   "execution_count": null,
   "id": "6a027434",
   "metadata": {
    "ExecuteTime": {
     "end_time": "2024-01-20T00:44:26.843589Z",
     "start_time": "2024-01-20T00:44:25.200030Z"
    }
   },
   "outputs": [],
   "source": [
    "num = input(\"Enter Your Credit Card Number \\n\")\n",
    "credit_checker(num)"
   ]
  }
 ],
 "metadata": {
  "kernelspec": {
   "display_name": "Python 3 (ipykernel)",
   "language": "python",
   "name": "python3"
  },
  "language_info": {
   "codemirror_mode": {
    "name": "ipython",
    "version": 3
   },
   "file_extension": ".py",
   "mimetype": "text/x-python",
   "name": "python",
   "nbconvert_exporter": "python",
   "pygments_lexer": "ipython3",
   "version": "3.11.5"
  }
 },
 "nbformat": 4,
 "nbformat_minor": 5
}
